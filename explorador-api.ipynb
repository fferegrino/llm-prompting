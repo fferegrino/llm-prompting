{
 "cells": [
  {
   "cell_type": "code",
   "execution_count": null,
   "id": "31d3e458-b685-49f2-bf6d-688ea62df952",
   "metadata": {},
   "outputs": [],
   "source": [
    "from dotenv import load_dotenv\n",
    "\n",
    "load_dotenv()"
   ]
  },
  {
   "cell_type": "code",
   "execution_count": null,
   "id": "de6606bd-fb48-4ed8-afb0-5168569f6ef0",
   "metadata": {},
   "outputs": [],
   "source": [
    "import os\n",
    "from openai import OpenAI\n",
    "\n",
    "OPENAI_API_KEY = os.environ['OPENAI_API_KEY']"
   ]
  },
  {
   "cell_type": "code",
   "execution_count": null,
   "id": "a83b4a08-79f5-4ab3-837e-7890f03859d0",
   "metadata": {},
   "outputs": [],
   "source": [
    "client = OpenAI(api_key=OPENAI_API_KEY)"
   ]
  },
  {
   "cell_type": "markdown",
   "id": "9116ff4c-88b4-4602-ae40-2116c170b575",
   "metadata": {},
   "source": [
    "## La estructura de los mensajes"
   ]
  },
  {
   "cell_type": "markdown",
   "id": "329125d8-16e8-4f3d-b4fb-69cd3e2932fb",
   "metadata": {},
   "source": [
    "La forma en que funcionan estos modelos es a través de una interfaz de conversación, este motor de conversación funciona a través de una serie de mensajes en el formato:\n",
    "\n",
    "```json\n",
    "{\n",
    "    \"role\": \"user\",\n",
    "    \"content\": \"message\"\n",
    "}\n",
    "```\n",
    "\n",
    "En cuanto a los roles, hay tres:\n",
    "\n",
    " - \"user\"\n",
    " - \"assistant\"\n",
    " - \"system\""
   ]
  },
  {
   "cell_type": "code",
   "execution_count": null,
   "id": "54811eb3-da57-422f-a91d-e15b1476401f",
   "metadata": {},
   "outputs": [],
   "source": [
    "messages = [\n",
    "    { \"role\": \"user\", \"content\": \"¿Quién eres?\" }\n",
    "]"
   ]
  },
  {
   "cell_type": "code",
   "execution_count": null,
   "id": "302b76d5-1386-48d9-86f9-82b1f8c1e9bf",
   "metadata": {},
   "outputs": [],
   "source": [
    "OPENAI_MODEL = \"gpt-3.5-turbo\"\n",
    "TEMPERATURE = 0.7 # Value between 0 and 2\n",
    "\n",
    "completions = client.chat.completions.create(\n",
    "    model = OPENAI_MODEL,\n",
    "    temperature = TEMPERATURE,\n",
    "    messages = messages,\n",
    ")"
   ]
  },
  {
   "cell_type": "code",
   "execution_count": null,
   "id": "97391fb0-a3a7-44f0-aa69-e8d1d525cecb",
   "metadata": {},
   "outputs": [],
   "source": [
    "type(completions)"
   ]
  },
  {
   "cell_type": "code",
   "execution_count": null,
   "id": "d1726e16-ae7d-48ff-af90-99a68b857f40",
   "metadata": {},
   "outputs": [],
   "source": [
    "message_choice = completions.choices[0]\n",
    "message_choice"
   ]
  },
  {
   "cell_type": "code",
   "execution_count": null,
   "id": "d69bc7ce-7c68-4cb5-896f-ecb380957b99",
   "metadata": {},
   "outputs": [],
   "source": [
    "message_choice.message.content"
   ]
  },
  {
   "cell_type": "markdown",
   "id": "c9f2b479-a1b9-406d-8b68-3692fb555dc8",
   "metadata": {},
   "source": [
    "## El rol del `sistema`\n",
    "\n",
    "Es posible utilizar un mensaje *\"system\"* para personalizar el asistente:"
   ]
  },
  {
   "cell_type": "code",
   "execution_count": null,
   "id": "19158aa7-3701-4b0c-ab1a-54f90dbf10c0",
   "metadata": {},
   "outputs": [],
   "source": [
    "messages = [\n",
    "    {\n",
    "        \"role\": \"system\", \n",
    "        \"content\": \"Eres Tamal Enchilado, un famoso chef latinoamericano con experiencia en alta cocina\"\n",
    "    },\n",
    "    { \"role\": \"user\", \"content\": \"¿Quién eres?\" }\n",
    "]"
   ]
  },
  {
   "cell_type": "code",
   "execution_count": null,
   "id": "9b1ceb09-7ff0-4ad3-af5d-0837577048b4",
   "metadata": {},
   "outputs": [],
   "source": [
    "completions = client.chat.completions.create(\n",
    "    model = OPENAI_MODEL,\n",
    "    temperature = TEMPERATURE,\n",
    "    messages = messages,\n",
    ")"
   ]
  },
  {
   "cell_type": "code",
   "execution_count": null,
   "id": "b8defb92-1569-4c54-830c-8ec99f2ff0a9",
   "metadata": {},
   "outputs": [],
   "source": [
    "print(completions.choices[0].message.content)"
   ]
  },
  {
   "cell_type": "markdown",
   "id": "68c56487-40d3-4c9c-82c0-b63e3777d7d3",
   "metadata": {},
   "source": [
    "## Una función auxiliar"
   ]
  },
  {
   "cell_type": "code",
   "execution_count": null,
   "id": "0f5a004e-eb3b-4400-b696-501f876eb09d",
   "metadata": {},
   "outputs": [],
   "source": [
    "from openai import OpenAI\n",
    "\n",
    "OPENAI_API_KEY = os.environ['OPENAI_API_KEY']\n",
    "\n",
    "client = OpenAI(api_key=OPENAI_API_KEY)\n",
    "\n",
    "def get_response(prompt, model=\"gpt-3.5-turbo\", temperature=0.7):\n",
    "    messages = [\n",
    "        { \"role\": \"user\", \"content\": prompt }\n",
    "    ]\n",
    "    completions = client.chat.completions.create(\n",
    "        model = model,\n",
    "        temperature = temperature,\n",
    "        messages = messages,\n",
    "    )\n",
    "    return completions.choices[0].message.content\n",
    "    "
   ]
  },
  {
   "cell_type": "code",
   "execution_count": null,
   "id": "7ffaa0c0-ebd6-419a-9386-03c606e2e743",
   "metadata": {},
   "outputs": [],
   "source": [
    "response = get_response(\"Hola, mi nombre es Antonio, ¿quién eres tu?\")\n",
    "\n",
    "print(response)"
   ]
  },
  {
   "cell_type": "markdown",
   "id": "c960db74-24c2-40f3-b137-6bd7da474d5f",
   "metadata": {},
   "source": [
    "## Resumir contenido"
   ]
  },
  {
   "cell_type": "code",
   "execution_count": null,
   "id": "21d3e373-6412-45ab-8cee-a6fc84f75e81",
   "metadata": {},
   "outputs": [],
   "source": [
    "three_star_review = \"\"\"\n",
    "No es un mal libro y es difícil discutir sobre lo que defienden los autores, \\\n",
    "pero para mí se parece mucho a un libro de autoayuda en el sentido de que la \\\n",
    "gente se sentirá bien mientras lo lee (y por tanto lo valorará muy positivamente), \\\n",
    "pero al final mucha gente no seguirá realmente el material y, a menos que seas un \\\n",
    "novato, gran parte de él será bastante obvio. Lo sé porque llevo 20 años trabajando \\\n",
    "en la industria del software y este libro se considera un clásico, pero la gente \\\n",
    "sigue cometiendo los mismos errores. \\\n",
    "En realidad, no es culpa del libro, pero también me da la impresión de que abarca \\\n",
    "mucho sin decir gran cosa. Es similar a un libro de autoayuda para personas que se \\\n",
    "sienten mal, puede que se sientan bien leyéndolo pero, ¿realmente te ayuda al final? \\\n",
    "Supongo que depende de la persona.\"\"\""
   ]
  },
  {
   "cell_type": "markdown",
   "id": "3730fef1-27bc-43f6-8456-d77af50af10d",
   "metadata": {},
   "source": [
    "### Primer intento"
   ]
  },
  {
   "cell_type": "code",
   "execution_count": null,
   "id": "4a928c82-af86-497b-835e-ce4200f760c4",
   "metadata": {},
   "outputs": [],
   "source": [
    "prompt = \"Resume el texto en una sola oración:\""
   ]
  },
  {
   "cell_type": "code",
   "execution_count": null,
   "id": "7eb5a3cc-1b7d-4570-b6c1-4e710f5853e3",
   "metadata": {},
   "outputs": [],
   "source": [
    "complete_prompt = prompt + \" \" + three_star_review\n",
    "response = get_response(complete_prompt)\n",
    "\n",
    "print(response)"
   ]
  },
  {
   "cell_type": "markdown",
   "id": "e4717844-9da3-4663-860a-624418014df7",
   "metadata": {},
   "source": [
    "### Segundo intento – usa delimitadores"
   ]
  },
  {
   "cell_type": "code",
   "execution_count": null,
   "id": "3fbed83a-b4ee-4b84-945d-9738fd524fb7",
   "metadata": {},
   "outputs": [],
   "source": [
    "prompt = \"\"\"Resume el texto delimitado por tres comillas invertidas en una sola oración:\n",
    "\n",
    "```{text}```\n",
    "\"\"\""
   ]
  },
  {
   "cell_type": "code",
   "execution_count": null,
   "id": "51576259-7ed3-4690-b2c4-bcbde98fdbb2",
   "metadata": {},
   "outputs": [],
   "source": [
    "complete_prompt = prompt.format(text=three_star_review)\n",
    "print(complete_prompt)"
   ]
  },
  {
   "cell_type": "code",
   "execution_count": null,
   "id": "c22b1836-b23f-46d0-bae6-babf2de7927e",
   "metadata": {},
   "outputs": [],
   "source": [
    "response = get_response(complete_prompt)\n",
    "\n",
    "print(response)"
   ]
  },
  {
   "cell_type": "markdown",
   "id": "50a74816-ea7c-469e-8e78-d16167dea52e",
   "metadata": {},
   "source": [
    "### Tercer intento - pide una salida estructurada"
   ]
  },
  {
   "cell_type": "code",
   "execution_count": null,
   "id": "4e254ed6-470a-4f88-87de-b3e68ae6397e",
   "metadata": {},
   "outputs": [],
   "source": [
    "prompt = \"\"\"Resume el texto delimitado por tres comillas invertidas en una sola oración.\n",
    "Quiero la respuesta en formato JSON con las siguientes propiedades: summary (el resumen)\n",
    "\n",
    "```{text}```\n",
    "\"\"\""
   ]
  },
  {
   "cell_type": "code",
   "execution_count": null,
   "id": "43407c13-30ee-41c3-b2c5-152a4577539c",
   "metadata": {},
   "outputs": [],
   "source": [
    "response = get_response(prompt.format(text=three_star_review))\n",
    "\n",
    "print(response)"
   ]
  },
  {
   "cell_type": "code",
   "execution_count": null,
   "id": "c772211f-0916-4edb-b27c-e6ac5a17de2f",
   "metadata": {},
   "outputs": [],
   "source": [
    "import json\n",
    "\n",
    "resp = json.loads(response)\n",
    "\n",
    "resp['summary']"
   ]
  },
  {
   "cell_type": "markdown",
   "id": "fa838e08-5bb1-4824-82f8-c20d5ada7dd4",
   "metadata": {},
   "source": [
    "### Cuarto intento - verifica que está resumiendo reseñas de libros"
   ]
  },
  {
   "cell_type": "code",
   "execution_count": null,
   "id": "13a16617-7d47-4ffc-839d-a5dea07bd39f",
   "metadata": {},
   "outputs": [],
   "source": [
    "prompt = \"\"\"Te voy a proporcionar un texto delimitado por tres comillas invertidas.\\\n",
    "Si el texto contiene una reseña de un libro, quiero que la resumas.\n",
    "Si el texto no es una reseña de un libro, simplemente escribe \\\"No es reseña\\\".\n",
    "\n",
    "Quiero la respuesta en formato JSON con las siguientes propiedades: summary (el resumen) y is_review (un booleano)\n",
    "\n",
    "```{text}```\n",
    "\"\"\""
   ]
  },
  {
   "cell_type": "code",
   "execution_count": null,
   "id": "a0a7f9dd-7af3-4c74-ade7-684591fe3405",
   "metadata": {},
   "outputs": [],
   "source": [
    "response = get_response(prompt.format(text=three_star_review))\n",
    "\n",
    "print(response)"
   ]
  },
  {
   "cell_type": "code",
   "execution_count": null,
   "id": "84df4fcf-8d16-416c-a970-33366fff62a0",
   "metadata": {},
   "outputs": [],
   "source": [
    "not_a_review = \"\"\"Fabricado con material de alta calidad, muy resistente y duradero. \\\n",
    "Pueden hacer que tu peinado sea más encantador y llamativo. \\\n",
    "Recibirás 2 lindas pinzas para el cabello, patas de pollo frito, pinzas para el cabello con alas de pollo. \\\n",
    "Mano de obra realista altamente simulada, como poner comida en tu cabeza, muy lindo. \\\n",
    "Regalo maravilloso: Las pinzas para el cabello creativas son un regalo bienvenido para amigos, \\\n",
    "familiares, esposas, novias, compañeros de clase y cualquier persona que ames. \\\n",
    "Fueron increíbles para la fiesta de cumpleaños temática de pollo frito.\"\"\""
   ]
  },
  {
   "cell_type": "code",
   "execution_count": null,
   "id": "efae116e-3ff7-4a9f-a0dd-0f446f51509a",
   "metadata": {},
   "outputs": [],
   "source": [
    "response = get_response(prompt.format(text=not_a_review))\n",
    "\n",
    "print(response)"
   ]
  },
  {
   "cell_type": "markdown",
   "id": "04ec2142-3cef-4cb6-823d-53e9801406f4",
   "metadata": {},
   "source": [
    "### Fifth attempt - add more tasks"
   ]
  },
  {
   "cell_type": "code",
   "execution_count": null,
   "id": "8f02a73d-913a-4f8d-a1d4-8327ed5d728c",
   "metadata": {},
   "outputs": [],
   "source": [
    "prompt = \"\"\"Te voy a proporcionar un texto delimitado por tres comillas invertidas.\\\n",
    "Si contiene una reseña sobre un libro, realice las siguientes acciones:\n",
    "\n",
    "1. Identificar el sentimiento - sentiment\n",
    "2. Extraer las palabras clave - keywords\n",
    "3. Resumir la reseña - summary\n",
    "4. Sugerir un título para la reseña - title\n",
    "\n",
    "Si no contiene una reseña sobre un libro, simplemente escriba \\\"No es reseña\\\"\n",
    "\n",
    "Proporcione la respuesta como un objeto JSON con las siguientes propiedades: summary, is_a_review, keywords, title, sentiment\n",
    "\n",
    "```{text}```\n",
    "\"\"\""
   ]
  },
  {
   "cell_type": "code",
   "execution_count": null,
   "id": "d8a8cda3-b47d-4f15-961f-3a3cb84c2a60",
   "metadata": {},
   "outputs": [],
   "source": [
    "response = get_response(prompt.format(text=three_star_review))\n",
    "\n",
    "print(response)"
   ]
  },
  {
   "cell_type": "code",
   "execution_count": null,
   "id": "c140ab3f-2df3-4db4-ae55-c31a2fe37c53",
   "metadata": {},
   "outputs": [],
   "source": [
    "response = get_response(prompt.format(text=not_a_review))\n",
    "\n",
    "print(response)"
   ]
  },
  {
   "cell_type": "markdown",
   "id": "9d405309-fd8a-46a5-9768-b3af487a3372",
   "metadata": {},
   "source": [
    "### Sexto intento – \"fuerza\" al modelo para que regrese JSON\n",
    "\n",
    "#### Solo disponible para `gpt-4-1106-preview`!"
   ]
  },
  {
   "cell_type": "code",
   "execution_count": null,
   "id": "5e26bbbb-e078-4629-a3bd-44192026a49f",
   "metadata": {},
   "outputs": [],
   "source": [
    "def get_json_response(prompt, temperature = 0.7):\n",
    "    messages = [\n",
    "        { \"role\": \"user\", \"content\": prompt }\n",
    "    ]\n",
    "    completions = client.chat.completions.create(\n",
    "        model = \"gpt-4-1106-preview\",\n",
    "        temperature = temperature,\n",
    "        messages = messages,\n",
    "        \n",
    "        response_format={ \"type\": \"json_object\" }\n",
    "\n",
    "    )\n",
    "    return completions.choices[0].message.content\n",
    "    "
   ]
  },
  {
   "cell_type": "code",
   "execution_count": null,
   "id": "6c7bb013-6833-4786-8e7f-5471f6b4ef0b",
   "metadata": {},
   "outputs": [],
   "source": [
    "response = get_json_response(prompt.format(text=three_star_review))\n",
    "\n",
    "print(response)"
   ]
  },
  {
   "cell_type": "code",
   "execution_count": null,
   "id": "f418ddb6-c5ff-4bed-b29e-13de5196deb2",
   "metadata": {},
   "outputs": [],
   "source": [
    "resp = json.loads(response)\n",
    "\n",
    "print(\"\"\"Título de la reseña: {title}\n",
    "Palabras clave: {keywords}\n",
    "sentimiento: {sentiment}\n",
    "\"\"\".format(**resp))"
   ]
  },
  {
   "cell_type": "code",
   "execution_count": null,
   "id": "3f8aa167-d802-4329-b059-32e58dc246ea",
   "metadata": {},
   "outputs": [],
   "source": [
    "response = get_json_response(\"¿Quién eres?\")\n",
    "\n",
    "print(response)"
   ]
  },
  {
   "cell_type": "markdown",
   "id": "5220571a-d5f1-4365-bc41-6d4fffa43017",
   "metadata": {},
   "source": [
    "## Expansión de contenido"
   ]
  },
  {
   "cell_type": "code",
   "execution_count": null,
   "id": "bd4507e5-e2e5-4e1a-af03-9b7c7326b2ef",
   "metadata": {},
   "outputs": [],
   "source": [
    "prompt = \"\"\"Voy a darte las especificaciones de un {product}.\n",
    "Las especificaciones están delimitadas por corchetes angulares.\n",
    "Quiero que escribas una breve descripción del mismo utilizando las especificaciones pero destacando su {highlight}.\n",
    "\n",
    ">>>\n",
    "{specs}\n",
    ">>>\n",
    "\"\"\""
   ]
  },
  {
   "cell_type": "code",
   "execution_count": null,
   "id": "76ec048b-398d-4c2d-ae74-626a393c874b",
   "metadata": {},
   "outputs": [],
   "source": [
    "full_prompt = prompt.format(\n",
    "    product='Consola de videojuegos',\n",
    "    highlight='portabilidad',\n",
    "    specs=\"\"\"Tamaño: Aproximadamente 4 pulgadas (10.16 cm) de alto, 9.5 pulgadas (24.13 cm) de ancho y 0.55 pulgadas (1.4 cm) de largo (con los controles acoplados).\n",
    "Peso: Aproximadamente 0.71 libras (322 g), 0.93 libras (426.38 g) con los controles acoplados\n",
    "CPU/GPU: Procesador NVIDIA Custom Tegra\n",
    "Almacenamiento: 64 GB (Los usuarios pueden ampliar la capacidad de almacenamiento con tarjetas microSDHC o microSDXC hasta de 2 TB).\n",
    "Conexión inalámbrica: Wi-Fi (cumple con IEEE 802.11 a/b/g/n/ac), Bluetooth 4.1\n",
    "Salida de video: 1080p via HDMI y 720p via la pantalla incluída.\n",
    "Salida de audio: Altavoces estéreo\n",
    "Botones: Botón POWER / Botón de volumen\n",
    "Conector USB: Conector USB Type-C Se utiliza para cargar la batería o para conectarse con la base de Nintendo Switch.\n",
    "Conector de audio: Conector de 3.5 mm con 4 polos (estándar para CTIA)\n",
    "\"\"\")\n",
    "    \n",
    "print(full_prompt)"
   ]
  },
  {
   "cell_type": "code",
   "execution_count": null,
   "id": "2bca0fa6-aeec-4788-b800-d553b899a1d5",
   "metadata": {},
   "outputs": [],
   "source": [
    "product_description = get_response(full_prompt)\n",
    "\n",
    "print(product_description)"
   ]
  },
  {
   "cell_type": "code",
   "execution_count": null,
   "id": "4e2586d4-493e-4c12-ba26-84a10568a30d",
   "metadata": {},
   "outputs": [],
   "source": [
    "full_prompt = prompt.format(\n",
    "    product='Lavadora automática',\n",
    "    highlight='olor',\n",
    "    specs=\"\"\"Tamaño: Aproximadamente 4 pulgadas (10.16 cm) de alto, 9.5 pulgadas (24.13 cm) de ancho y 0.55 pulgadas (1.4 cm) de largo (con los controles acoplados).\n",
    "Peso: Aproximadamente 0.71 libras (322 g), 0.93 libras (426.38 g) con los controles acoplados\n",
    "CPU/GPU: Procesador NVIDIA Custom Tegra\n",
    "Almacenamiento: 64 GB (Los usuarios pueden ampliar la capacidad de almacenamiento con tarjetas microSDHC o microSDXC hasta de 2 TB).\n",
    "Conexión inalámbrica: Wi-Fi (cumple con IEEE 802.11 a/b/g/n/ac), Bluetooth 4.1\n",
    "Salida de video: 1080p via HDMI y 720p via la pantalla incluída.\n",
    "Salida de audio: Altavoces estéreo\n",
    "Botones: Botón POWER / Botón de volumen\n",
    "Conector USB: Conector USB Type-C Se utiliza para cargar la batería o para conectarse con la base de Nintendo Switch.\n",
    "Conector de audio: Conector de 3.5 mm con 4 polos (estándar para CTIA)\n",
    "\"\"\")\n",
    "\n",
    "product_description = get_response(full_prompt)\n",
    "\n",
    "print(product_description)"
   ]
  },
  {
   "cell_type": "markdown",
   "id": "b0f2a475-c5fe-4d6d-8631-91459da59812",
   "metadata": {},
   "source": [
    "## Aprendizaje \"few-shot\"\n",
    "\n",
    "Vamos a inventar [nuevos nombres](https://en.wikipedia.org/wiki/Boaty_McBoatface) \"británicos\"."
   ]
  },
  {
   "cell_type": "code",
   "execution_count": null,
   "id": "9226056e-09af-4c60-a2b4-e5f809512a3b",
   "metadata": {},
   "outputs": [],
   "source": [
    "prompt = \"\"\"Te voy a dar un un sustantivo delimitado por corchetes angulares, \\\n",
    "quiero que me des un nombre para una un objeto de ese sustantivo.\n",
    "\n",
    ">>>\n",
    "{noun}\n",
    ">>>\n",
    "\"\"\""
   ]
  },
  {
   "cell_type": "code",
   "execution_count": null,
   "id": "59e7e78d-dc16-404d-ae32-807e750cba23",
   "metadata": {},
   "outputs": [],
   "source": [
    "response = get_response(prompt.format(noun='Egg'))\n",
    "print(response)"
   ]
  },
  {
   "cell_type": "code",
   "execution_count": null,
   "id": "eae7b972-f1ef-4365-a023-057c4889c5e5",
   "metadata": {},
   "outputs": [],
   "source": [
    "response = get_response(prompt.format(noun='Train'))\n",
    "print(response)"
   ]
  },
  {
   "cell_type": "code",
   "execution_count": null,
   "id": "b3675414-4197-4684-8ed3-d39933f7f976",
   "metadata": {},
   "outputs": [],
   "source": [
    "prompt = \"\"\"Te voy a dar un un sustantivo delimitado por corchetes angulares, \\\n",
    "quiero que me des un nombre para una un objeto de ese sustantivo.\n",
    "\n",
    "User: boat\n",
    "Assistant: Boaty McBoatface\n",
    "\n",
    "User: howitzer\n",
    "Assistant: Cannon McCannonface\n",
    "\n",
    "User: beer\n",
    "Assistant: Lager McLagerface\n",
    "\n",
    ">>>\n",
    "{noun}\n",
    ">>>\n",
    "\"\"\""
   ]
  },
  {
   "cell_type": "code",
   "execution_count": null,
   "id": "7f74a9a7-7769-4d19-bc93-0f930135ade9",
   "metadata": {},
   "outputs": [],
   "source": [
    "response = get_response(prompt.format(noun='Egg'))\n",
    "print(response)"
   ]
  },
  {
   "cell_type": "code",
   "execution_count": null,
   "id": "98b6256a-fc1e-41f8-9f89-f99ebda96119",
   "metadata": {},
   "outputs": [],
   "source": [
    "response = get_response(prompt.format(noun='Train'))\n",
    "print(response)"
   ]
  },
  {
   "cell_type": "code",
   "execution_count": null,
   "id": "49fe5efa-dcd9-469a-a110-c4962fe1848f",
   "metadata": {},
   "outputs": [],
   "source": [
    "response = get_response(prompt.format(noun='snow plow'))\n",
    "print(response)"
   ]
  },
  {
   "cell_type": "code",
   "execution_count": null,
   "id": "8ae7a55c-b31e-427f-90e6-572e5476a1c3",
   "metadata": {},
   "outputs": [],
   "source": [
    "response = get_response(prompt.format(noun='guimpe'))\n",
    "print(response)"
   ]
  },
  {
   "cell_type": "markdown",
   "id": "02814612-42ef-4844-a22e-055847b2caf5",
   "metadata": {},
   "source": [
    "## ¿Tokens?\n",
    "\n",
    "Aquí está la documentación: https://platform.openai.com/tokenizer"
   ]
  },
  {
   "cell_type": "code",
   "execution_count": null,
   "id": "5195cd12-b55c-4ece-bf86-b6091c524b96",
   "metadata": {},
   "outputs": [],
   "source": [
    "import tiktoken"
   ]
  },
  {
   "cell_type": "code",
   "execution_count": null,
   "id": "6d0d0729-ba14-4ad1-bb98-171fcbc7a40c",
   "metadata": {},
   "outputs": [],
   "source": [
    "encoding = tiktoken.encoding_for_model(OPENAI_MODEL)"
   ]
  },
  {
   "cell_type": "code",
   "execution_count": null,
   "id": "6b035b2e-3bb3-453c-9316-0dcb817a2c9b",
   "metadata": {},
   "outputs": [],
   "source": [
    "tokens = encoding.encode(\"Hola, ¿cómo estás?\")\n",
    "print(tokens)"
   ]
  },
  {
   "cell_type": "code",
   "execution_count": null,
   "id": "8166bdf4-5901-4949-8c1f-3d193bdb90df",
   "metadata": {},
   "outputs": [],
   "source": [
    "decoded = encoding.decode(tokens)\n",
    "print(decoded)"
   ]
  },
  {
   "cell_type": "code",
   "execution_count": null,
   "id": "3140f1a7-c974-4051-99f5-b6eb86f2d601",
   "metadata": {},
   "outputs": [],
   "source": [
    "encoding.decode_single_token_bytes(69112)"
   ]
  },
  {
   "cell_type": "code",
   "execution_count": null,
   "id": "561b8f9c-e168-4cdd-a193-a6f45aed4f57",
   "metadata": {},
   "outputs": [],
   "source": [
    "encoding.decode_single_token_bytes(69113)"
   ]
  },
  {
   "cell_type": "code",
   "execution_count": null,
   "id": "46b28d19-4a73-4cee-b9f9-5d5a8770a769",
   "metadata": {},
   "outputs": [],
   "source": [
    "encoding.decode_single_token_bytes(69111)"
   ]
  },
  {
   "cell_type": "code",
   "execution_count": null,
   "id": "7e35d7f9-c519-4f48-b7ed-dd4f99c21f01",
   "metadata": {},
   "outputs": [],
   "source": []
  }
 ],
 "metadata": {
  "kernelspec": {
   "display_name": "Python 3 (ipykernel)",
   "language": "python",
   "name": "python3"
  },
  "language_info": {
   "codemirror_mode": {
    "name": "ipython",
    "version": 3
   },
   "file_extension": ".py",
   "mimetype": "text/x-python",
   "name": "python",
   "nbconvert_exporter": "python",
   "pygments_lexer": "ipython3",
   "version": "3.10.12"
  }
 },
 "nbformat": 4,
 "nbformat_minor": 5
}
